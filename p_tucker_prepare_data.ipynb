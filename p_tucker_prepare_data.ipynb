{
 "cells": [
  {
   "cell_type": "code",
   "execution_count": 3,
   "metadata": {},
   "outputs": [],
   "source": [
    "from data_loaders import load_dataset\n",
    "import numpy as np\n",
    "import pandas as pd\n",
    "from utils import train_val_split"
   ]
  },
  {
   "cell_type": "code",
   "execution_count": 4,
   "metadata": {},
   "outputs": [
    {
     "name": "stdout",
     "output_type": "stream",
     "text": [
      "loading eps dataset..\n",
      "loading eps dataset..\n",
      "EPS data shape: (32, 180, 173)\n"
     ]
    }
   ],
   "source": [
    "for seed in range(2):\n",
    "    tr_idxs, tr_vals, te_idxs, te_vals, shape = load_dataset('eps', seed=seed)\n",
    "\n",
    "    train_data, val_data = train_val_split(tr_idxs, tr_vals, val_ratio=0.1)\n",
    "    tr_idxs = train_data[:, :3]\n",
    "    tr_vals = train_data[:, -1]\n",
    "\n",
    "    df_train = pd.DataFrame(np.c_[tr_idxs, tr_vals])\n",
    "    df_test = pd.DataFrame(np.c_[te_idxs, te_vals])\n",
    "    df_train = df_train.astype({0: int, 1: int, 2: int, 3: float})\n",
    "    df_test = df_test.astype({0: int, 1: int, 2: int, 3: float})\n",
    "    \n",
    "    df_train.to_csv(f'P-Tucker/datasets/eps_train_seed{seed}.txt', sep=' ', header=None, index=None)\n",
    "    df_test.to_csv(f'P-Tucker/datasets/eps_test_seed{seed}.txt', sep=' ', header=None, index=None)\n",
    "\n",
    "print('EPS data shape:', shape)"
   ]
  },
  {
   "cell_type": "code",
   "execution_count": 5,
   "metadata": {},
   "outputs": [
    {
     "name": "stdout",
     "output_type": "stream",
     "text": [
      "loading fun dataset..\n",
      "loading fun dataset..\n",
      "Fundamentals data shape: (32, 180, 19)\n"
     ]
    }
   ],
   "source": [
    "for seed in range(2):\n",
    "    tr_idxs, tr_vals, te_idxs, te_vals, shape = load_dataset('fun', seed=seed)\n",
    "\n",
    "    train_data, val_data = train_val_split(tr_idxs, tr_vals, val_ratio=0.1)\n",
    "    tr_idxs = train_data[:, :3]\n",
    "    tr_vals = train_data[:, -1]\n",
    "\n",
    "    df_train = pd.DataFrame(np.c_[tr_idxs, tr_vals])\n",
    "    df_test = pd.DataFrame(np.c_[te_idxs, te_vals])\n",
    "    df_train = df_train.astype({0: int, 1: int, 2: int, 3: float})\n",
    "    df_test = df_test.astype({0: int, 1: int, 2: int, 3: float})\n",
    "    \n",
    "    df_train.to_csv(f'P-Tucker/datasets/fun_train_seed{seed}.txt', sep=' ', header=None, index=None)\n",
    "    df_test.to_csv(f'P-Tucker/datasets/fun_test_seed{seed}.txt', sep=' ', header=None, index=None)\n",
    "\n",
    "print('Fundamentals data shape:', shape)"
   ]
  },
  {
   "cell_type": "code",
   "execution_count": 6,
   "metadata": {},
   "outputs": [
    {
     "name": "stdout",
     "output_type": "stream",
     "text": [
      "loading chars dataset..\n",
      "loading chars dataset..\n",
      "Fundamentals data shape: (60, 100, 202)\n"
     ]
    }
   ],
   "source": [
    "for seed in range(2):\n",
    "    tr_idxs, tr_vals, te_idxs, te_vals, shape = load_dataset('chars', seed=seed)\n",
    "    train_data, val_data = train_val_split(tr_idxs, tr_vals, val_ratio=0.1)\n",
    "    tr_idxs = train_data[:, :3]\n",
    "    tr_vals = train_data[:, -1]\n",
    "\n",
    "    df_train = pd.DataFrame(np.c_[tr_idxs, tr_vals])\n",
    "    df_test = pd.DataFrame(np.c_[te_idxs, te_vals])\n",
    "    df_train = df_train.astype({0: int, 1: int, 2: int, 3: float})\n",
    "    df_test = df_test.astype({0: int, 1: int, 2: int, 3: float})\n",
    "    \n",
    "    df_train.to_csv(f'P-Tucker/datasets/chars_train_seed{seed}.txt', sep=' ', header=None, index=None)\n",
    "    df_test.to_csv(f'P-Tucker/datasets/chars_test_seed{seed}.txt', sep=' ', header=None, index=None)\n",
    "\n",
    "print('Fundamentals data shape:', shape)"
   ]
  },
  {
   "cell_type": "code",
   "execution_count": 7,
   "metadata": {},
   "outputs": [
    {
     "data": {
      "text/plain": [
       "0.5759859735973597"
      ]
     },
     "execution_count": 7,
     "metadata": {},
     "output_type": "execute_result"
    }
   ],
   "source": [
    "(len(df_train) + len(df_test)) / (60*100*202)"
   ]
  }
 ],
 "metadata": {
  "kernelspec": {
   "display_name": "pyg",
   "language": "python",
   "name": "python3"
  },
  "language_info": {
   "codemirror_mode": {
    "name": "ipython",
    "version": 3
   },
   "file_extension": ".py",
   "mimetype": "text/x-python",
   "name": "python",
   "nbconvert_exporter": "python",
   "pygments_lexer": "ipython3",
   "version": "3.10.10"
  },
  "orig_nbformat": 4
 },
 "nbformat": 4,
 "nbformat_minor": 2
}
