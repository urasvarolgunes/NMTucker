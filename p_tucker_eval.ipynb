{
 "cells": [
  {
   "cell_type": "code",
   "execution_count": 1,
   "metadata": {},
   "outputs": [
    {
     "name": "stderr",
     "output_type": "stream",
     "text": [
      "/home/uras/.local/lib/python3.10/site-packages/tqdm/auto.py:21: TqdmWarning: IProgress not found. Please update jupyter and ipywidgets. See https://ipywidgets.readthedocs.io/en/stable/user_install.html\n",
      "  from .autonotebook import tqdm as notebook_tqdm\n"
     ]
    }
   ],
   "source": [
    "from tensorly.tenalg import multi_mode_dot\n",
    "import pandas as pd\n",
    "import numpy as np\n",
    "import matplotlib.pyplot as plt\n",
    "from utils import mape, mae, rmse\n",
    "from data_loaders import load_dataset"
   ]
  },
  {
   "cell_type": "code",
   "execution_count": 111,
   "metadata": {},
   "outputs": [],
   "source": [
    "DATASET = 'chars' # fun, eps, chars\n",
    "RANK = 80\n",
    "LAMBDA = 0.01\n",
    "\n",
    "def reconstruct(seed):\n",
    "    f1 = pd.read_csv(f'P-Tucker/results/{DATASET}/{RANK}_{LAMBDA}_{seed}/FACTOR0', header = None, sep='\\t').to_numpy()\n",
    "    f2 = pd.read_csv(f'P-Tucker/results/{DATASET}/{RANK}_{LAMBDA}_{seed}/FACTOR1', header = None, sep='\\t').to_numpy()\n",
    "    f3 = pd.read_csv(f'P-Tucker/results/{DATASET}/{RANK}_{LAMBDA}_{seed}/FACTOR2', header = None, sep='\\t').to_numpy()\n",
    "\n",
    "    df_core = pd.read_csv(f'P-Tucker/results/{DATASET}/{RANK}_{LAMBDA}_{seed}/CORETENSOR', header = None, sep='\\t')\n",
    "    values = df_core[3].to_numpy()\n",
    "    core = values.reshape(RANK, RANK, RANK)\n",
    "    X_hat = multi_mode_dot(core, [f1, f2, f3])\n",
    "    return X_hat"
   ]
  },
  {
   "cell_type": "code",
   "execution_count": 112,
   "metadata": {},
   "outputs": [
    {
     "name": "stdout",
     "output_type": "stream",
     "text": [
      "loading chars dataset..\n",
      "rmse: 0.26899025419149314 +/- nan\n",
      "mae: 0.17178863526554747 +/- nan\n",
      "mape: 72.67205459431894 +/- nan\n"
     ]
    },
    {
     "name": "stderr",
     "output_type": "stream",
     "text": [
      "/home/uras/tmp/ENTER/envs/pyg/lib/python3.10/site-packages/numpy/core/_methods.py:265: RuntimeWarning: Degrees of freedom <= 0 for slice\n",
      "  ret = _var(a, axis=axis, dtype=dtype, out=out, ddof=ddof,\n",
      "/home/uras/tmp/ENTER/envs/pyg/lib/python3.10/site-packages/numpy/core/_methods.py:257: RuntimeWarning: invalid value encountered in double_scalars\n",
      "  ret = ret.dtype.type(ret / rcount)\n"
     ]
    }
   ],
   "source": [
    "metrics = {'rmse':[], 'mae':[], 'mape':[]}\n",
    "for seed in [0]:\n",
    "    X_hat = reconstruct(seed)\n",
    "    tr_idxs, tr_vals, te_idxs, te_vals, data_shape = load_dataset(DATASET, seed=seed)\n",
    "    te_idxs = te_idxs.astype(int)\n",
    "\n",
    "    preds = []\n",
    "    for index in te_idxs:\n",
    "        pred = X_hat[index[0], index[1], index[2]]\n",
    "        preds.append(pred)\n",
    "\n",
    "    metrics['rmse'].append(rmse(te_vals, preds))\n",
    "    metrics['mae'].append(mae(te_vals, preds)) \n",
    "    metrics['mape'].append(mape(te_vals, preds))\n",
    "\n",
    "for m, vals in metrics.items():\n",
    "    print(f'{m}: {np.mean(vals)} +/- {np.std(vals, ddof=1)}')"
   ]
  },
  {
   "cell_type": "code",
   "execution_count": null,
   "metadata": {},
   "outputs": [],
   "source": []
  },
  {
   "cell_type": "code",
   "execution_count": null,
   "metadata": {},
   "outputs": [],
   "source": []
  }
 ],
 "metadata": {
  "kernelspec": {
   "display_name": "pyg",
   "language": "python",
   "name": "python3"
  },
  "language_info": {
   "codemirror_mode": {
    "name": "ipython",
    "version": 3
   },
   "file_extension": ".py",
   "mimetype": "text/x-python",
   "name": "python",
   "nbconvert_exporter": "python",
   "pygments_lexer": "ipython3",
   "version": "3.10.10"
  },
  "orig_nbformat": 4
 },
 "nbformat": 4,
 "nbformat_minor": 2
}
